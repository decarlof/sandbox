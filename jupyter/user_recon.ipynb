{
 "cells": [
  {
   "cell_type": "code",
   "execution_count": 33,
   "id": "e50ebc02",
   "metadata": {},
   "outputs": [],
   "source": [
    "import numpy as np\n",
    "import dxchange\n",
    "\n",
    "from ipywidgets import interact\n",
    "import ipywidgets as widgets\n",
    "import matplotlib.pyplot as plt\n",
    "%matplotlib inline\n",
    "import tkinter as tk\n",
    "from tkinter.filedialog import askopenfile"
   ]
  },
  {
   "cell_type": "code",
   "execution_count": 34,
   "id": "cdcb5fa1-242b-4c06-b23d-afe96054259f",
   "metadata": {},
   "outputs": [],
   "source": [
    "# Utility Functions"
   ]
  },
  {
   "cell_type": "code",
   "execution_count": 35,
   "id": "165bcc5e-4ad2-4862-b5b5-cd3c5191368d",
   "metadata": {},
   "outputs": [],
   "source": [
    "def read_filename():\n",
    "    window = tk.Tk()\n",
    "    window.wm_attributes('-topmost', 1)\n",
    "    window.withdraw()\n",
    "\n",
    "    file = askopenfile(mode ='r', filetypes =[('Python Files', '*.h5')])\n",
    "    window.destroy()\n",
    "    return file.name"
   ]
  },
  {
   "cell_type": "markdown",
   "id": "66148d7f",
   "metadata": {},
   "source": [
    "# Load data"
   ]
  },
  {
   "cell_type": "code",
   "execution_count": 36,
   "id": "511d9581",
   "metadata": {},
   "outputs": [
    {
     "name": "stderr",
     "output_type": "stream",
     "text": [
      "2024-01-25 14:52:07.744 python[98781:7726538] +[CATransaction synchronize] called within transaction\n",
      "2024-01-25 14:52:07.811 python[98781:7726538] +[CATransaction synchronize] called within transaction\n",
      "2024-01-25 14:52:09.705 python[98781:7726538] +[CATransaction synchronize] called within transaction\n"
     ]
    }
   ],
   "source": [
    "# !wget -nc https://anl.box.com/shared/static/or8vlzdu07d8zwxvk50ihwghq39ide0o.npz\n",
    "file_name = read_filename()"
   ]
  },
  {
   "cell_type": "markdown",
   "id": "7bea98cb",
   "metadata": {},
   "source": [
    "# Read data, dark and flat fields, projection angles, the rotation center and metadata"
   ]
  },
  {
   "cell_type": "code",
   "execution_count": 37,
   "id": "8c5de4e2",
   "metadata": {},
   "outputs": [],
   "source": [
    "# data = np.random.rand(100,256,256) #3d-array with 100 frames 256x256\n",
    "data, flat, dark, theta = dxchange.read_aps_tomoscan_hdf5(file_name)#, sino=(100, 400))\n",
    "meta_dict = dxchange.read_hdf_meta(file_name)"
   ]
  },
  {
   "cell_type": "code",
   "execution_count": 38,
   "id": "596e9047",
   "metadata": {},
   "outputs": [
    {
     "data": {
      "text/plain": [
       "(1800, 852, 2800)"
      ]
     },
     "execution_count": 38,
     "metadata": {},
     "output_type": "execute_result"
    }
   ],
   "source": [
    "data.shape "
   ]
  },
  {
   "cell_type": "markdown",
   "id": "8a9542cf",
   "metadata": {},
   "source": [
    "# Plot projections"
   ]
  },
  {
   "cell_type": "code",
   "execution_count": 40,
   "id": "76c73b36",
   "metadata": {},
   "outputs": [
    {
     "data": {
      "application/vnd.jupyter.widget-view+json": {
       "model_id": "54101824720e408dbdc62a7f92429d3c",
       "version_major": 2,
       "version_minor": 0
      },
      "text/plain": [
       "interactive(children=(IntSlider(value=900, description='angle', max=1799), Output()), _dom_classes=('widget-in…"
      ]
     },
     "metadata": {},
     "output_type": "display_data"
    },
    {
     "data": {
      "text/plain": [
       "<function __main__.plot_projections(angle=1)>"
      ]
     },
     "execution_count": 40,
     "metadata": {},
     "output_type": "execute_result"
    }
   ],
   "source": [
    "def plot_projections(angle=1):\n",
    "    plt.imshow(data[angle,:],cmap='gray')\n",
    "interact(plot_projections, angle = widgets.IntSlider(name='Projection', value=data.shape[0]//2,\n",
    "                                               min=0,\n",
    "                                               max=data.shape[0]-1,\n",
    "                                               step=1))"
   ]
  },
  {
   "cell_type": "code",
   "execution_count": null,
   "id": "2a6d0ae0",
   "metadata": {},
   "outputs": [],
   "source": []
  }
 ],
 "metadata": {
  "kernelspec": {
   "display_name": "Python 3 (ipykernel)",
   "language": "python",
   "name": "python3"
  },
  "language_info": {
   "codemirror_mode": {
    "name": "ipython",
    "version": 3
   },
   "file_extension": ".py",
   "mimetype": "text/x-python",
   "name": "python",
   "nbconvert_exporter": "python",
   "pygments_lexer": "ipython3",
   "version": "3.9.18"
  }
 },
 "nbformat": 4,
 "nbformat_minor": 5
}
