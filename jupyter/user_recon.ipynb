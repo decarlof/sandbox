{
 "cells": [
  {
   "cell_type": "code",
   "execution_count": 1,
   "id": "e50ebc02",
   "metadata": {},
   "outputs": [
    {
     "name": "stderr",
     "output_type": "stream",
     "text": [
      "/home/beams/TOMO/conda/miniforge3/envs/tomopyui/lib/python3.9/site-packages/cupyx/jit/_interface.py:173: FutureWarning: cupyx.jit.rawkernel is experimental. The interface can change in the future.\n",
      "  cupy._util.experimental('cupyx.jit.rawkernel')\n"
     ]
    }
   ],
   "source": [
    "import numpy as np\n",
    "import dxchange\n",
    "import tomopy\n",
    "import tomocupy\n",
    "\n",
    "from ipywidgets import interact\n",
    "import ipywidgets as widgets\n",
    "import matplotlib.pyplot as plt\n",
    "%matplotlib inline\n",
    "import tkinter as tk\n",
    "from tkinter.filedialog import askopenfile"
   ]
  },
  {
   "cell_type": "code",
   "execution_count": 2,
   "id": "cdcb5fa1-242b-4c06-b23d-afe96054259f",
   "metadata": {},
   "outputs": [],
   "source": [
    "# Utility Functions"
   ]
  },
  {
   "cell_type": "code",
   "execution_count": 3,
   "id": "165bcc5e-4ad2-4862-b5b5-cd3c5191368d",
   "metadata": {},
   "outputs": [],
   "source": [
    "def read_filename():\n",
    "    window = tk.Tk()\n",
    "    window.wm_attributes('-topmost', 1)\n",
    "    window.withdraw()\n",
    "\n",
    "    file = askopenfile(mode ='r', filetypes =[('Python Files', '*.h5')])\n",
    "    window.destroy()\n",
    "    return file.name"
   ]
  },
  {
   "cell_type": "markdown",
   "id": "66148d7f",
   "metadata": {},
   "source": [
    "# Load data"
   ]
  },
  {
   "cell_type": "code",
   "execution_count": 4,
   "id": "511d9581",
   "metadata": {},
   "outputs": [],
   "source": [
    "# !wget -nc https://anl.box.com/shared/static/or8vlzdu07d8zwxvk50ihwghq39ide0o.npz\n",
    "# file_name = read_filename()\n",
    "fname = '/data/2022-12/Luxi_173.h5'\n",
    "# dark_file_name = file_name\n",
    "# flat_file_name = file_name"
   ]
  },
  {
   "cell_type": "markdown",
   "id": "7bea98cb",
   "metadata": {},
   "source": [
    "# Read data, dark and flat fields, projection angles, metadata"
   ]
  },
  {
   "cell_type": "code",
   "execution_count": 5,
   "id": "8c5de4e2",
   "metadata": {},
   "outputs": [],
   "source": [
    "# data = np.random.rand(100,256,256) #3d-array with 100 frames 256x256\n",
    "data, flat, dark, theta = dxchange.read_aps_tomoscan_hdf5(fname)#, sino=(100, 400))\n",
    "tt, meta_dict = dxchange.read_hdf_meta(fname)\n",
    "# print(meta_dict)"
   ]
  },
  {
   "cell_type": "code",
   "execution_count": 6,
   "id": "596e9047",
   "metadata": {},
   "outputs": [
    {
     "data": {
      "text/plain": [
       "(1800, 852, 2800)"
      ]
     },
     "execution_count": 6,
     "metadata": {},
     "output_type": "execute_result"
    }
   ],
   "source": [
    "data.shape "
   ]
  },
  {
   "cell_type": "markdown",
   "id": "8a9542cf",
   "metadata": {},
   "source": [
    "# Plot projections"
   ]
  },
  {
   "cell_type": "code",
   "execution_count": 7,
   "id": "76c73b36",
   "metadata": {},
   "outputs": [
    {
     "data": {
      "application/vnd.jupyter.widget-view+json": {
       "model_id": "beeef1a0cc3647dc8a5881a587ef1ea9",
       "version_major": 2,
       "version_minor": 0
      },
      "text/plain": [
       "interactive(children=(IntSlider(value=900, description='angle', max=1799), Output()), _dom_classes=('widget-in…"
      ]
     },
     "metadata": {},
     "output_type": "display_data"
    },
    {
     "data": {
      "text/plain": [
       "<function __main__.plot_projections(angle=1)>"
      ]
     },
     "execution_count": 7,
     "metadata": {},
     "output_type": "execute_result"
    }
   ],
   "source": [
    "def plot_projections(angle=1):\n",
    "    plt.imshow(data[angle,:],cmap='gray')\n",
    "interact(plot_projections, angle = widgets.IntSlider(name='Projection', value=data.shape[0]//2,\n",
    "                                               min=0,\n",
    "                                               max=data.shape[0]-1,\n",
    "                                               step=1))"
   ]
  },
  {
   "cell_type": "code",
   "execution_count": 11,
   "id": "2a6d0ae0",
   "metadata": {},
   "outputs": [
    {
     "name": "stdout",
     "output_type": "stream",
     "text": [
      "args******\n",
      "namespace(file_name='/data/2022-12/Luxi_173.h5', dark_file_name='/data/2022-12/Luxi_173.h5', flat_file_name='/data/2022-12/Luxi_173.h5', out_path_name='/data/tmpfdc/', file_type='standard', binning=0, blocked_views='none', remove_stripe_method='vo', rotation_axis=-1, center_search_width=50, center_search_step=0.5, nsino='0.5', nsino_per_chunk=8, nproj_per_chunk=8, start_row=0, end_row=-1, start_column=0, end_column=-1, start_proj=0, end_proj=-1, rotation_axis_auto='auto', rotation_axis_pairs='[0,0]', rotation_axis_sift_threshold=0.5, rotation_axis_method='sift', find_center_start_row=0, find_center_end_row=-1, dtype='float16', clear_folder=True, fbp_filter='shepp', dezinger=0, max_write_threads=8, max_read_threads=4, minus_log=True, flat_linear='False', reconstruction_type='try', reconstruction_algorithm='fourierrec', lamino_search_width=5.0, lamino_search_step=0.25, lamino_angle=0, lamino_start_row=0, lamino_end_row=-1, rotate_proj_angle=0, rotate_proj_order=1, retrieve_phase_method=None, pixel_size=0.000312583, propagation_distance=150.0, energy=25.51, retrieve_phase_alpha=0.2)\n",
      "args1*****\n",
      "namespace(file_name='/data/2022-12/Luxi_173.h5', flat_file_name=None, dark_file_name=None, out_path_name='/data/tmpfdc', file_type='standard', binning=0, blocked_views='none', remove_stripe_method='vo', rotation_axis=-1, center_search_width=50.0, center_search_step=0.5, nsino='0.5', nsino_per_chunk=8, nproj_per_chunk=8, start_row=0, end_row=-1, start_column=0, end_column=-1, start_proj=0, end_proj=-1, rotation_axis_auto='auto', rotation_axis_pairs='[0,0]', rotation_axis_sift_threshold=0.5, rotation_axis_method='sift', find_center_start_row=0, find_center_end_row=-1, dtype='float16', save_format='tiff', clear_folder=True, fbp_filter='shepp', dezinger=0, dezinger_threshold=5000, max_write_threads=8, max_read_threads=4, minus_log=True, flat_linear='False', pad_endpoint='False', fw_sigma=1, fw_filter='sym16', fw_level=7, fw_pad=True, ti_beta=0.022, ti_mask=1, vo_all_snr=3, vo_all_la_size=61, vo_all_sm_size=21, vo_all_dim=1, reconstruction_type='try', reconstruction_algorithm='fourierrec', lamino_search_width=5.0, lamino_search_step=0.25, lamino_angle=0, lamino_start_row=0, lamino_end_row=-1, rotate_proj_angle=0, rotate_proj_order=1, retrieve_phase_method=None, pixel_size=0.000312583, propagation_distance=150.0, energy=25.51, retrieve_phase_alpha=0.0008)\n",
      "args2*****\n",
      "namespace(file_name='/data/2022-12/Luxi_173.h5', dark_file_name='/data/2022-12/Luxi_173.h5', flat_file_name='/data/2022-12/Luxi_173.h5', out_path_name='/data/tmpfdc/', file_type='standard', binning=0, blocked_views='none', remove_stripe_method='vo', rotation_axis=-1, center_search_width=50, center_search_step=0.5, nsino='0.5', nsino_per_chunk=8, nproj_per_chunk=8, start_row=0, end_row=-1, start_column=0, end_column=-1, start_proj=0, end_proj=-1, rotation_axis_auto='auto', rotation_axis_pairs='[0,0]', rotation_axis_sift_threshold=0.5, rotation_axis_method='sift', find_center_start_row=0, find_center_end_row=-1, dtype='float16', clear_folder=True, fbp_filter='shepp', dezinger=0, max_write_threads=8, max_read_threads=4, minus_log=True, flat_linear='False', reconstruction_type='try', reconstruction_algorithm='fourierrec', lamino_search_width=5.0, lamino_search_step=0.25, lamino_angle=0, lamino_start_row=0, lamino_end_row=-1, rotate_proj_angle=0, rotate_proj_order=1, retrieve_phase_method=None, pixel_size=0.000312583, propagation_distance=150.0, energy=25.51, retrieve_phase_alpha=0.2)\n",
      "**********\n"
     ]
    }
   ],
   "source": [
    "from types import SimpleNamespace\n",
    "\n",
    "JUPYTER_PARAMS = ('file-reading', 'remove-stripe',\n",
    "                'reconstruction', 'fw', 'ti', 'vo-all', 'reconstruction-types', 'lamino', 'rotate-proj')\n",
    "params_dict = {}\n",
    "# for section in tomocupy.config.RECON_PARAMS:\n",
    "for section in JUPYTER_PARAMS:\n",
    "    # print(section)\n",
    "    for key, value in tomocupy.config.SECTIONS[section].items():\n",
    "        # print('%s = %s ' % (key, value['default']))\n",
    "        key = key.replace('-', '_')\n",
    "        params_dict[key] = value['default']\n",
    "\n",
    "# print(params_dict)\n",
    "args = SimpleNamespace(\n",
    "                       file_name                    = fname,\n",
    "                       dark_file_name               = fname, \n",
    "                       flat_file_name               = fname, \n",
    "                       out_path_name                = '/data/tmpfdc/',\n",
    "                       file_type                    = 'standard',\n",
    "                       binning                      = 0,\n",
    "                       blocked_views                = 'none',\n",
    "                       remove_stripe_method         = 'vo',\n",
    "                       rotation_axis                = -1,\n",
    "                       center_search_width          =  50,\n",
    "                       center_search_step           =  0.5,\n",
    "                       nsino                        = '0.5',\n",
    "                       nsino_per_chunk              = 8,\n",
    "                       nproj_per_chunk              = 8,\n",
    "                       start_row                    = 0,\n",
    "                       end_row                      = -1,\n",
    "                       start_column                 = 0,\n",
    "                       end_column                   = -1,\n",
    "                       start_proj                   = 0,\n",
    "                       end_proj                     = -1,\n",
    "                       rotation_axis_auto           = 'auto', \n",
    "                       rotation_axis_pairs          = '[0,0]',\n",
    "                       rotation_axis_sift_threshold = 0.5,\n",
    "                       rotation_axis_method         = 'sift',  \n",
    "\n",
    "                       find_center_start_row        = 0,\n",
    "                       find_center_end_row          = -1,\n",
    "                       dtype                        = 'float16',\n",
    "\n",
    "                       clear_folder                 = True,\n",
    "                       fbp_filter                   = 'shepp',\n",
    "                       dezinger                     = 0,\n",
    "                       max_write_threads            = 8,\n",
    "                       max_read_threads             = 4,\n",
    "                       minus_log                    = True,\n",
    "                       flat_linear                  = 'False',\n",
    "    \n",
    "    \n",
    "    \n",
    "    \n",
    "    \n",
    "    \n",
    "    \n",
    "    \n",
    "    \n",
    "    \n",
    "    \n",
    "                       reconstruction_type          = 'try',\n",
    "                       reconstruction_algorithm     = 'fourierrec',\n",
    "                       lamino_search_width          =  5.0,\n",
    "                       lamino_search_step           =  0.25,\n",
    "                       lamino_angle                 =  0,\n",
    "                       lamino_start_row             =  0,\n",
    "                       lamino_end_row               =  -1,\n",
    "                       rotate_proj_angle            = 0,\n",
    "                       rotate_proj_order            = 1,\n",
    "                       retrieve_phase_method        = None,\n",
    "                       pixel_size                   = meta_dict['measurement_instrument_detection_system_objective_resolution'][0] * 1e-4,\n",
    "                       propagation_distance         = meta_dict['measurement_instrument_detector_motor_stack_setup_z'][0],\n",
    "                       energy                       = meta_dict['measurement_instrument_monochromator_energy'][0],\n",
    "                       retrieve_phase_alpha         = 0.2,\n",
    "                      )\n",
    "\n",
    "args1 = SimpleNamespace(**params_dict)\n",
    "\n",
    "args1.reconstruction_type    = 'try'\n",
    "args1.file_name              = fname\n",
    "# args1.dark_file_name         = fname, \n",
    "# args1.flat_file_name         = fname, \n",
    "args1.rotation_axis_auto     = 'auto'\n",
    "args1.rotation_axis_method   = 'sift' \n",
    "args1.dtype                  = 'float16'\n",
    "args1.out_path_name          = '/data/tmpfdc' \n",
    "args1.clear_folder           = True\n",
    "args1.fbp_filter             = 'shepp' \n",
    "args1.retrieve_phase_method  = None \n",
    "args1.remove_stripe_method   = 'vo'\n",
    "args1.pixel_size             = meta_dict['measurement_instrument_detection_system_objective_resolution'][0] * 1e-4\n",
    "args1.propagation_distance   = meta_dict['measurement_instrument_detector_motor_stack_setup_z'][0]\n",
    "args1.energy                 = meta_dict['measurement_instrument_monochromator_energy'][0]\n",
    "args1.retrieve_phase_alpha   = 0.0008\n",
    "args1.rotation_axis_sift_threshold = 0.5\n",
    "args1.rotation_axis = -1\n",
    "# args1.lamino_search_width          =  5.0,\n",
    "# args1.lamino_search_step           =  0.25,\n",
    "# args1.lamino_angle                 =  0,\n",
    "# args1.lamino_start_row             =  0,\n",
    "# args1.lamino_end_row               =  -1,\n",
    "# args1.binning = 0\n",
    "args1.minus_log =True\n",
    "\n",
    "args2 = SimpleNamespace(\n",
    "                       file_name                    = fname,\n",
    "                       dark_file_name               = fname, \n",
    "                       flat_file_name               = fname, \n",
    "                       out_path_name                = '/data/tmpfdc/',\n",
    "                       file_type                    = 'standard',\n",
    "                       binning                      = 0,\n",
    "                       blocked_views                = 'none',\n",
    "                       remove_stripe_method         = 'vo',\n",
    "                       rotation_axis                = -1,\n",
    "                       center_search_width          =  50,\n",
    "                       center_search_step           =  0.5,\n",
    "                       nsino                        = '0.5',\n",
    "                       nsino_per_chunk              = 8,\n",
    "                       nproj_per_chunk              = 8,\n",
    "                       start_row                    = 0,\n",
    "                       end_row                      = -1,\n",
    "                       start_column                 = 0,\n",
    "                       end_column                   = -1,\n",
    "                       start_proj                   = 0,\n",
    "                       end_proj                     = -1,\n",
    "                       rotation_axis_auto           = 'auto', \n",
    "                       rotation_axis_pairs          = '[0,0]',\n",
    "                       rotation_axis_sift_threshold = 0.5,\n",
    "                       rotation_axis_method         = 'sift',  \n",
    "                       find_center_start_row        = 0,\n",
    "                       find_center_end_row          = -1,\n",
    "                       dtype                        = 'float16',\n",
    "\n",
    "                       clear_folder                 = True,\n",
    "                       fbp_filter                   = 'shepp',\n",
    "                       dezinger                     = 0,\n",
    "\n",
    "                       max_write_threads            = 8,\n",
    "                       max_read_threads             = 4,\n",
    "                       minus_log                    = True,\n",
    "                       flat_linear                  = 'False',\n",
    "    \n",
    "    \n",
    "    \n",
    "    \n",
    "    \n",
    "    \n",
    "    \n",
    "    \n",
    "    \n",
    "    \n",
    "                       reconstruction_type          = 'try',\n",
    "                       reconstruction_algorithm     = 'fourierrec',\n",
    "                       lamino_search_width          =  5.0,\n",
    "                       lamino_search_step           =  0.25,\n",
    "                       lamino_angle                 =  0,\n",
    "                       lamino_start_row             =  0,\n",
    "                       lamino_end_row               =  -1,\n",
    "                       rotate_proj_angle            = 0,\n",
    "                       rotate_proj_order            = 1,\n",
    "                       retrieve_phase_method        = None,\n",
    "                       pixel_size                   = meta_dict['measurement_instrument_detection_system_objective_resolution'][0] * 1e-4,\n",
    "                       propagation_distance         = meta_dict['measurement_instrument_detector_motor_stack_setup_z'][0],\n",
    "                       energy                       = meta_dict['measurement_instrument_monochromator_energy'][0],\n",
    "                       retrieve_phase_alpha         = 0.2,\n",
    "                      )\n",
    "\n",
    "print('args******')\n",
    "print(args)\n",
    "print('args1*****')\n",
    "print(args1)\n",
    "print('args2*****')\n",
    "print(args2)\n",
    "print('**********')\n"
   ]
  },
  {
   "cell_type": "code",
   "execution_count": null,
   "id": "b00b82ad-2bb8-44c1-af51-6eeeb6d140df",
   "metadata": {},
   "outputs": [],
   "source": [
    "clrotthandle = tomocupy.FindCenter(args1)\n",
    "args1.rotation_axis = clrotthandle.find_center()*2**args1.binning\n",
    "print(f'set rotaion  axis {args1.rotation_axis}')"
   ]
  },
  {
   "cell_type": "code",
   "execution_count": null,
   "id": "2026641a-85b0-4ad4-8bd7-4750f0ae01c6",
   "metadata": {},
   "outputs": [],
   "source": [
    "clpthandle = tomocupy.GPURec(args)\n",
    "clpthandle.recon_try()"
   ]
  },
  {
   "cell_type": "code",
   "execution_count": 14,
   "id": "633c79ba-8505-42f0-b6b7-38561711ba5d",
   "metadata": {},
   "outputs": [
    {
     "ename": "TypeError",
     "evalue": "read_tiff_stack() missing 1 required positional argument: 'ind'",
     "output_type": "error",
     "traceback": [
      "\u001b[0;31m---------------------------------------------------------------------------\u001b[0m",
      "\u001b[0;31mTypeError\u001b[0m                                 Traceback (most recent call last)",
      "Cell \u001b[0;32mIn[14], line 1\u001b[0m\n\u001b[0;32m----> 1\u001b[0m center_search \u001b[38;5;241m=\u001b[39m \u001b[43mdxchange\u001b[49m\u001b[38;5;241;43m.\u001b[39;49m\u001b[43mread_tiff_stack\u001b[49m\u001b[43m(\u001b[49m\u001b[43margs\u001b[49m\u001b[38;5;241;43m.\u001b[39;49m\u001b[43mout_path_name\u001b[49m\u001b[38;5;241;43m+\u001b[39;49m\u001b[43m \u001b[49m\u001b[38;5;124;43m'\u001b[39;49m\u001b[38;5;124;43mrecon_slice0425_center1734.16.tiff\u001b[39;49m\u001b[38;5;124;43m'\u001b[39;49m\u001b[43m)\u001b[49m\n",
      "\u001b[0;31mTypeError\u001b[0m: read_tiff_stack() missing 1 required positional argument: 'ind'"
     ]
    }
   ],
   "source": [
    "center_search = dxchange.read_tiff_stack(args.out_path_name+ 'recon_slice0425_center1734.16.tiff', in)"
   ]
  },
  {
   "cell_type": "code",
   "execution_count": null,
   "id": "a29ee629-16ec-4a7c-8d39-3fd05a0b5e61",
   "metadata": {},
   "outputs": [],
   "source": []
  }
 ],
 "metadata": {
  "kernelspec": {
   "display_name": "Python 3 (ipykernel)",
   "language": "python",
   "name": "python3"
  },
  "language_info": {
   "codemirror_mode": {
    "name": "ipython",
    "version": 3
   },
   "file_extension": ".py",
   "mimetype": "text/x-python",
   "name": "python",
   "nbconvert_exporter": "python",
   "pygments_lexer": "ipython3",
   "version": "3.9.18"
  }
 },
 "nbformat": 4,
 "nbformat_minor": 5
}
