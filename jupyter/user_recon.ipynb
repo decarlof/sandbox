{
 "cells": [
  {
   "cell_type": "code",
   "execution_count": 1,
   "id": "e50ebc02",
   "metadata": {},
   "outputs": [
    {
     "name": "stderr",
     "output_type": "stream",
     "text": [
      "/home/beams/TOMO/conda/miniforge3/envs/tomopyui/lib/python3.9/site-packages/cupyx/jit/_interface.py:173: FutureWarning: cupyx.jit.rawkernel is experimental. The interface can change in the future.\n",
      "  cupy._util.experimental('cupyx.jit.rawkernel')\n"
     ]
    }
   ],
   "source": [
    "import numpy as np\n",
    "import dxchange\n",
    "import tomopy\n",
    "import tomocupy\n",
    "\n",
    "from ipywidgets import interact\n",
    "import ipywidgets as widgets\n",
    "import matplotlib.pyplot as plt\n",
    "%matplotlib inline\n",
    "import tkinter as tk\n",
    "from tkinter.filedialog import askopenfile"
   ]
  },
  {
   "cell_type": "code",
   "execution_count": 2,
   "id": "cdcb5fa1-242b-4c06-b23d-afe96054259f",
   "metadata": {},
   "outputs": [],
   "source": [
    "# Utility Functions"
   ]
  },
  {
   "cell_type": "code",
   "execution_count": 3,
   "id": "165bcc5e-4ad2-4862-b5b5-cd3c5191368d",
   "metadata": {},
   "outputs": [],
   "source": [
    "def read_filename():\n",
    "    window = tk.Tk()\n",
    "    window.wm_attributes('-topmost', 1)\n",
    "    window.withdraw()\n",
    "\n",
    "    file = askopenfile(mode ='r', filetypes =[('Python Files', '*.h5')])\n",
    "    window.destroy()\n",
    "    return file.name"
   ]
  },
  {
   "cell_type": "markdown",
   "id": "66148d7f",
   "metadata": {},
   "source": [
    "# Load data"
   ]
  },
  {
   "cell_type": "code",
   "execution_count": 4,
   "id": "511d9581",
   "metadata": {},
   "outputs": [],
   "source": [
    "# !wget -nc https://anl.box.com/shared/static/or8vlzdu07d8zwxvk50ihwghq39ide0o.npz\n",
    "# file_name = read_filename()\n",
    "file_name = '/data/2022-12/Luxi_173.h5'\n",
    "dark_file_name = file_name\n",
    "flat_file_name = file_name"
   ]
  },
  {
   "cell_type": "markdown",
   "id": "7bea98cb",
   "metadata": {},
   "source": [
    "# Read data, dark and flat fields, projection angles, metadata"
   ]
  },
  {
   "cell_type": "code",
   "execution_count": 5,
   "id": "8c5de4e2",
   "metadata": {},
   "outputs": [],
   "source": [
    "# data = np.random.rand(100,256,256) #3d-array with 100 frames 256x256\n",
    "data, flat, dark, theta = dxchange.read_aps_tomoscan_hdf5(file_name)#, sino=(100, 400))\n",
    "tt, meta_dict = dxchange.read_hdf_meta(file_name)\n",
    "# print(meta_dict)"
   ]
  },
  {
   "cell_type": "code",
   "execution_count": 6,
   "id": "596e9047",
   "metadata": {},
   "outputs": [
    {
     "data": {
      "text/plain": [
       "(1800, 852, 2800)"
      ]
     },
     "execution_count": 6,
     "metadata": {},
     "output_type": "execute_result"
    }
   ],
   "source": [
    "data.shape "
   ]
  },
  {
   "cell_type": "markdown",
   "id": "8a9542cf",
   "metadata": {},
   "source": [
    "# Plot projections"
   ]
  },
  {
   "cell_type": "code",
   "execution_count": 7,
   "id": "76c73b36",
   "metadata": {},
   "outputs": [
    {
     "data": {
      "application/vnd.jupyter.widget-view+json": {
       "model_id": "78803b2ea7d24d3180c7a5ce58bbe828",
       "version_major": 2,
       "version_minor": 0
      },
      "text/plain": [
       "interactive(children=(IntSlider(value=900, description='angle', max=1799), Output()), _dom_classes=('widget-in…"
      ]
     },
     "metadata": {},
     "output_type": "display_data"
    },
    {
     "data": {
      "text/plain": [
       "<function __main__.plot_projections(angle=1)>"
      ]
     },
     "execution_count": 7,
     "metadata": {},
     "output_type": "execute_result"
    }
   ],
   "source": [
    "def plot_projections(angle=1):\n",
    "    plt.imshow(data[angle,:],cmap='gray')\n",
    "interact(plot_projections, angle = widgets.IntSlider(name='Projection', value=data.shape[0]//2,\n",
    "                                               min=0,\n",
    "                                               max=data.shape[0]-1,\n",
    "                                               step=1))"
   ]
  },
  {
   "cell_type": "code",
   "execution_count": 12,
   "id": "2a6d0ae0",
   "metadata": {},
   "outputs": [
    {
     "name": "stderr",
     "output_type": "stream",
     "text": [
      "Using dark fields from /data/2022-12/Luxi_173.h5\n",
      "Using flat fields from /data/2022-12/Luxi_173.h5\n",
      "Crop data to the power of 2 sizes to work with 16bit precision, output size in x dimension 2048\n"
     ]
    },
    {
     "name": "stdout",
     "output_type": "stream",
     "text": [
      "set rotaion  axis 1407.6629638671875\n"
     ]
    }
   ],
   "source": [
    "from types import SimpleNamespace\n",
    "\n",
    "params_dict = {}\n",
    "for section in config.RECON_STEPS_PARAMS:\n",
    "    # print(section)\n",
    "    for key, value in config.SECTIONS[section].items():\n",
    "        # print('%s = %s ' % (key, value['default']))\n",
    "        key = key.replace('-', '_')\n",
    "        params_dict[key] = value['default']\n",
    "\n",
    "# print(params_dict)\n",
    "\n",
    "args = SimpleNamespace(**params_dict)\n",
    "print(args)\n",
    "\n",
    "\n",
    "\n",
    "args1 = SimpleNamespace(rotation_axis_auto           = 'auto', \n",
    "                       file_name                    = file_name,\n",
    "                       dark_file_name               = file_name, \n",
    "                       flat_file_name               = file_name, \n",
    "                       rotation_axis_method         = 'sift',  \n",
    "                       binning                      = 0,\n",
    "                       start_row                    = 0,\n",
    "                       end_row                      = -1,\n",
    "                       start_proj                   = 0,\n",
    "                       end_proj                     = -1,\n",
    "                       start_column                 = 0,\n",
    "                       end_column                   = -1,\n",
    "                       nsino_per_chunk              = 8,\n",
    "                       nproj_per_chunk              = 8,\n",
    "                       rotation_axis                = -1,\n",
    "                       file_type                    = 'standard',\n",
    "                       dtype                        = 'float16',\n",
    "                       blocked_views                = 'none',\n",
    "                       nsino                        = '0.5',\n",
    "                       reconstruction_type          = 'try',\n",
    "                       center_search_width          =  50,\n",
    "                       center_search_step           =  0.5,\n",
    "                       lamino_search_width          =  5.0,\n",
    "                       lamino_search_step           =  0.25,\n",
    "                       lamino_angle                 =  0,\n",
    "                       lamino_start_row             =  0,\n",
    "                       lamino_end_row               =  -1,\n",
    "                       reconstruction_algorithm     = 'fourierrec',\n",
    "                       fbp_filter                   = 'shepp',\n",
    "                       rotation_axis_pairs          = '[0,0]',\n",
    "                       find_center_start_row        = 0,\n",
    "                       find_center_end_row          = -1,\n",
    "                       flat_linear                  = 'False',\n",
    "                       rotation_axis_sift_threshold = 0.5,\n",
    "                       out_path_name                = '/data/tmpfdc/',\n",
    "                       clear_folder                 = True,\n",
    "                       max_write_threads            = 8,\n",
    "                       max_read_threads             = 4,\n",
    "                       dezinger                     = 0,\n",
    "                       remove_stripe_method         = 'vo',\n",
    "                       retrieve_phase_method        = None,\n",
    "                       pixel_size                   = meta_dict['measurement_instrument_detection_system_objective_resolution'][0] * 1e-4,\n",
    "                       propagation_distance         = meta_dict['measurement_instrument_monochromator_energy'][0]/10,\n",
    "                       energy                       = meta_dict['measurement_instrument_detector_motor_stack_setup_z'][0],\n",
    "                       retrieve_phase_alpha         = 0.2,\n",
    "                       rotate_proj_angle            = 0,\n",
    "                       rotate_proj_order            = 1,\n",
    "                       minus_log                    = True\n",
    "                      )\n",
    "\n",
    "clrotthandle = tomocupy.FindCenter(args)\n",
    "args.rotation_axis = clrotthandle.find_center()*2**args.binning\n",
    "print(f'set rotaion  axis {args.rotation_axis}')\n"
   ]
  },
  {
   "cell_type": "code",
   "execution_count": 13,
   "id": "2026641a-85b0-4ad4-8bd7-4750f0ae01c6",
   "metadata": {},
   "outputs": [
    {
     "name": "stderr",
     "output_type": "stream",
     "text": [
      "Using dark fields from /data/2022-12/Luxi_173.h5\n",
      "Using flat fields from /data/2022-12/Luxi_173.h5\n",
      "Crop data to the power of 2 sizes to work with 16bit precision, output size in x dimension 2048\n"
     ]
    },
    {
     "name": "stdout",
     "output_type": "stream",
     "text": [
      "queue size 000 |  |████████████████████████████████████████| 100.0% \n"
     ]
    }
   ],
   "source": [
    "clpthandle = tomocupy.GPURec(args)\n",
    "clpthandle.recon_try()"
   ]
  },
  {
   "cell_type": "code",
   "execution_count": 14,
   "id": "633c79ba-8505-42f0-b6b7-38561711ba5d",
   "metadata": {},
   "outputs": [
    {
     "ename": "TypeError",
     "evalue": "read_tiff_stack() missing 1 required positional argument: 'ind'",
     "output_type": "error",
     "traceback": [
      "\u001b[0;31m---------------------------------------------------------------------------\u001b[0m",
      "\u001b[0;31mTypeError\u001b[0m                                 Traceback (most recent call last)",
      "Cell \u001b[0;32mIn[14], line 1\u001b[0m\n\u001b[0;32m----> 1\u001b[0m center_search \u001b[38;5;241m=\u001b[39m \u001b[43mdxchange\u001b[49m\u001b[38;5;241;43m.\u001b[39;49m\u001b[43mread_tiff_stack\u001b[49m\u001b[43m(\u001b[49m\u001b[43margs\u001b[49m\u001b[38;5;241;43m.\u001b[39;49m\u001b[43mout_path_name\u001b[49m\u001b[38;5;241;43m+\u001b[39;49m\u001b[43m \u001b[49m\u001b[38;5;124;43m'\u001b[39;49m\u001b[38;5;124;43mrecon_slice0425_center1734.16.tiff\u001b[39;49m\u001b[38;5;124;43m'\u001b[39;49m\u001b[43m)\u001b[49m\n",
      "\u001b[0;31mTypeError\u001b[0m: read_tiff_stack() missing 1 required positional argument: 'ind'"
     ]
    }
   ],
   "source": [
    "center_search = dxchange.read_tiff_stack(args.out_path_name+ 'recon_slice0425_center1734.16.tiff', in)"
   ]
  },
  {
   "cell_type": "code",
   "execution_count": null,
   "id": "a29ee629-16ec-4a7c-8d39-3fd05a0b5e61",
   "metadata": {},
   "outputs": [],
   "source": []
  }
 ],
 "metadata": {
  "kernelspec": {
   "display_name": "Python 3 (ipykernel)",
   "language": "python",
   "name": "python3"
  },
  "language_info": {
   "codemirror_mode": {
    "name": "ipython",
    "version": 3
   },
   "file_extension": ".py",
   "mimetype": "text/x-python",
   "name": "python",
   "nbconvert_exporter": "python",
   "pygments_lexer": "ipython3",
   "version": "3.9.18"
  }
 },
 "nbformat": 4,
 "nbformat_minor": 5
}
